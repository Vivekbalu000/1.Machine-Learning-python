{
 "cells": [
  {
   "cell_type": "code",
   "execution_count": null,
   "id": "026fdd86",
   "metadata": {},
   "outputs": [],
   "source": [
    "# Create a class and function, and list out the items in the list"
   ]
  },
  {
   "cell_type": "code",
   "execution_count": null,
   "id": "b9050be4",
   "metadata": {},
   "outputs": [],
   "source": [
    "#  SubfieldsInAI.Subfields()"
   ]
  },
  {
   "cell_type": "code",
   "execution_count": 1,
   "id": "5b69ce27",
   "metadata": {},
   "outputs": [
    {
     "name": "stdout",
     "output_type": "stream",
     "text": [
      "Subfields()Sub-fields in AI are:\n",
      "Machine Learning\n",
      "Neural Networks\n",
      "Vision\n",
      "Robotics\n",
      "Speech Processing\n",
      "Natural Language Processing\n"
     ]
    }
   ],
   "source": [
    "list1=[\"Subfields()Sub-fields in AI are:\",\"Machine Learning\",\"Neural Networks\",\"Vision\",\"Robotics\",\"Speech Processing\",\"Natural Language Processing\"]\n",
    "for temp in list1:\n",
    "        print(temp)"
   ]
  },
  {
   "cell_type": "code",
   "execution_count": 2,
   "id": "d4f142b0",
   "metadata": {},
   "outputs": [],
   "source": [
    "def Subfields():\n",
    "    list1=[\"Subfields()Sub-fields in AI are:\",\"Machine Learning\",\"Neural Networks\",\"Vision\",\"Robotics\",\"Speech Processing\",\"Natural Language Processing\"]\n",
    "    for temp in list1:\n",
    "            print(temp)"
   ]
  },
  {
   "cell_type": "code",
   "execution_count": 3,
   "id": "96cd041a",
   "metadata": {},
   "outputs": [
    {
     "name": "stdout",
     "output_type": "stream",
     "text": [
      "Subfields()Sub-fields in AI are:\n",
      "Machine Learning\n",
      "Neural Networks\n",
      "Vision\n",
      "Robotics\n",
      "Speech Processing\n",
      "Natural Language Processing\n"
     ]
    }
   ],
   "source": [
    "Subfields()"
   ]
  },
  {
   "cell_type": "code",
   "execution_count": 4,
   "id": "d61ce28e",
   "metadata": {},
   "outputs": [],
   "source": [
    "class SubfieldsInAI():\n",
    "    def Subfields():\n",
    "        list1=[\"Subfields()Sub-fields in AI are:\",\"Machine Learning\",\"Neural Networks\",\"Vision\",\"Robotics\",\"Speech Processing\",\"Natural Language Processing\"]\n",
    "        for temp in list1:\n",
    "                print(temp)\n"
   ]
  },
  {
   "cell_type": "code",
   "execution_count": 5,
   "id": "130b80bd",
   "metadata": {},
   "outputs": [
    {
     "name": "stdout",
     "output_type": "stream",
     "text": [
      "Subfields()Sub-fields in AI are:\n",
      "Machine Learning\n",
      "Neural Networks\n",
      "Vision\n",
      "Robotics\n",
      "Speech Processing\n",
      "Natural Language Processing\n"
     ]
    }
   ],
   "source": [
    " SubfieldsInAI.Subfields()"
   ]
  },
  {
   "cell_type": "code",
   "execution_count": null,
   "id": "0e0ba2fc",
   "metadata": {},
   "outputs": [],
   "source": [
    "# Create a function that checks whether the given number is Odd or Even"
   ]
  },
  {
   "cell_type": "code",
   "execution_count": null,
   "id": "8a159538",
   "metadata": {},
   "outputs": [],
   "source": [
    "# OddEven.OddEven()"
   ]
  },
  {
   "cell_type": "code",
   "execution_count": 6,
   "id": "287d2f71",
   "metadata": {},
   "outputs": [
    {
     "name": "stdout",
     "output_type": "stream",
     "text": [
      "Enter a number: 22\n",
      "22 is Even number\n"
     ]
    }
   ],
   "source": [
    "num=int(input(\"Enter a number: \"))\n",
    "if (num%2)==0:\n",
    "    print((\"{0} is Even number\").format(num))\n",
    "else:\n",
    "    print((\"{0} is Odd number\").format(num))\n",
    "   "
   ]
  },
  {
   "cell_type": "code",
   "execution_count": 7,
   "id": "c1a2ae9d",
   "metadata": {},
   "outputs": [],
   "source": [
    "def OddEven():\n",
    "    num=int(input(\"Enter a number: \"))\n",
    "    if (num%2)==0:\n",
    "        print((\"{0} is Even number\").format(num))\n",
    "    else:\n",
    "        print((\"{0} is Odd number\").format(num))"
   ]
  },
  {
   "cell_type": "code",
   "execution_count": 8,
   "id": "52ee5b40",
   "metadata": {},
   "outputs": [
    {
     "name": "stdout",
     "output_type": "stream",
     "text": [
      "Enter a number: 23\n",
      "23 is Odd number\n"
     ]
    }
   ],
   "source": [
    "OddEven()"
   ]
  },
  {
   "cell_type": "code",
   "execution_count": 9,
   "id": "c352a720",
   "metadata": {},
   "outputs": [],
   "source": [
    "class OddEven():\n",
    "    def OddEven():\n",
    "        num=int(input(\"Enter a number: \"))\n",
    "        if (num%2)==0:\n",
    "            print((\"{0} is Even number\").format(num))\n",
    "        else:\n",
    "            print((\"{0} is Odd number\").format(num))"
   ]
  },
  {
   "cell_type": "code",
   "execution_count": 10,
   "id": "20a31d18",
   "metadata": {},
   "outputs": [
    {
     "name": "stdout",
     "output_type": "stream",
     "text": [
      "Enter a number: 34\n",
      "34 is Even number\n"
     ]
    }
   ],
   "source": [
    "OddEven.OddEven()"
   ]
  },
  {
   "cell_type": "code",
   "execution_count": null,
   "id": "713d80a5",
   "metadata": {},
   "outputs": [],
   "source": [
    "# Create a function that tells elegibility of marriage for male and female according to their age limit like 21 for male and 18 for female"
   ]
  },
  {
   "cell_type": "code",
   "execution_count": null,
   "id": "169a98ac",
   "metadata": {},
   "outputs": [],
   "source": [
    "# ElegiblityForMarriage.Eligibile()"
   ]
  },
  {
   "cell_type": "code",
   "execution_count": 11,
   "id": "ab783605",
   "metadata": {},
   "outputs": [
    {
     "name": "stdout",
     "output_type": "stream",
     "text": [
      "Your Gender:male\n",
      "Your age:12\n",
      "NOT ELIGIBILE\n"
     ]
    }
   ],
   "source": [
    "Gender=input(\"Your Gender:\")\n",
    "age=int(input(\"Your age:\"))\n",
    "if (age<=18):\n",
    "    print(\"NOT ELIGIBILE\")\n",
    "else:\n",
    "    print(\"ELIGIBILE\")\n",
    "    "
   ]
  },
  {
   "cell_type": "code",
   "execution_count": 14,
   "id": "d5b994bc",
   "metadata": {},
   "outputs": [],
   "source": [
    "def Eligibile():\n",
    "    Gender=input(\"Your Gender:\")\n",
    "    age=int(input(\"Your age:\"))\n",
    "    if (age<=18):\n",
    "        print(\"NOT ELIGIBILE\")\n",
    "    else:\n",
    "        print(\"ELIGIBILE\")\n",
    "    "
   ]
  },
  {
   "cell_type": "code",
   "execution_count": 15,
   "id": "76f826d6",
   "metadata": {},
   "outputs": [
    {
     "name": "stdout",
     "output_type": "stream",
     "text": [
      "Your Gender:female\n",
      "Your age:22\n",
      "ELIGIBILE\n"
     ]
    }
   ],
   "source": [
    "Eligibile()"
   ]
  },
  {
   "cell_type": "code",
   "execution_count": 16,
   "id": "cafc2bcf",
   "metadata": {},
   "outputs": [],
   "source": [
    "class ElegiblityForMarriage():\n",
    "    def Eligibile():\n",
    "        Gender=input(\"Your Gender:\")\n",
    "        age=int(input(\"Your age:\"))\n",
    "        if (age<=18):\n",
    "            print(\"NOT ELIGIBILE\")\n",
    "        else:\n",
    "            print(\"ELIGIBILE\")"
   ]
  },
  {
   "cell_type": "code",
   "execution_count": 17,
   "id": "473e9fe2",
   "metadata": {},
   "outputs": [
    {
     "name": "stdout",
     "output_type": "stream",
     "text": [
      "Your Gender:male\n",
      "Your age:22\n",
      "ELIGIBILE\n"
     ]
    }
   ],
   "source": [
    "ElegiblityForMarriage.Eligibile()"
   ]
  },
  {
   "cell_type": "code",
   "execution_count": null,
   "id": "9f9325a2",
   "metadata": {},
   "outputs": [],
   "source": [
    "# Calculate the percentage of your 10th mark"
   ]
  },
  {
   "cell_type": "code",
   "execution_count": null,
   "id": "83d390da",
   "metadata": {},
   "outputs": [],
   "source": [
    "# FindPercent.Percentage()"
   ]
  },
  {
   "cell_type": "code",
   "execution_count": 18,
   "id": "04d0a46b",
   "metadata": {},
   "outputs": [
    {
     "name": "stdout",
     "output_type": "stream",
     "text": [
      "Subject1=88\n",
      "Subject2=87\n",
      "Subject3=90\n",
      "Subject4=98\n",
      "Subject5=96\n",
      "Total: 459\n",
      "Precentage: 91.8\n"
     ]
    }
   ],
   "source": [
    "mar1=int(input(\"Subject1=\"))\n",
    "mar2=int(input(\"Subject2=\"))\n",
    "mar3=int(input(\"Subject3=\"))\n",
    "mar4=int(input(\"Subject4=\"))\n",
    "mar5=int(input(\"Subject5=\"))\n",
    "add=(mar1+mar2+mar3+mar4+mar5)\n",
    "print(\"Total:\",add)\n",
    "print(\"Precentage:\",add/5)\n"
   ]
  },
  {
   "cell_type": "code",
   "execution_count": 19,
   "id": "7a3b12d3",
   "metadata": {},
   "outputs": [],
   "source": [
    "def Percentage():\n",
    "    mar1=int(input(\"Subject1=\"))\n",
    "    mar2=int(input(\"Subject2=\"))\n",
    "    mar3=int(input(\"Subject3=\"))\n",
    "    mar4=int(input(\"Subject4=\"))\n",
    "    mar5=int(input(\"Subject5=\"))\n",
    "    add=(mar1+mar2+mar3+mar4+mar5)\n",
    "    print(\"Total:\",add)\n",
    "    print(\"Precentage:\",add/5)\n",
    "    \n",
    "    "
   ]
  },
  {
   "cell_type": "code",
   "execution_count": 20,
   "id": "8ed3c0df",
   "metadata": {},
   "outputs": [
    {
     "name": "stdout",
     "output_type": "stream",
     "text": [
      "Subject1=88\n",
      "Subject2=87\n",
      "Subject3=90\n",
      "Subject4=98\n",
      "Subject5=96\n",
      "Total: 459\n",
      "Precentage: 91.8\n"
     ]
    }
   ],
   "source": [
    "Percentage()"
   ]
  },
  {
   "cell_type": "code",
   "execution_count": 21,
   "id": "0eb0a2f0",
   "metadata": {},
   "outputs": [],
   "source": [
    "class FindPercent():\n",
    "    def Percentage():\n",
    "        mar1=int(input(\"Subject1=\"))\n",
    "        mar2=int(input(\"Subject2=\"))\n",
    "        mar3=int(input(\"Subject3=\"))\n",
    "        mar4=int(input(\"Subject4=\"))\n",
    "        mar5=int(input(\"Subject5=\"))\n",
    "        add=(mar1+mar2+mar3+mar4+mar5)\n",
    "        print(\"Total:\",add)\n",
    "        print(\"Precentage:\",add/5)"
   ]
  },
  {
   "cell_type": "code",
   "execution_count": 22,
   "id": "aeba12f8",
   "metadata": {},
   "outputs": [
    {
     "name": "stdout",
     "output_type": "stream",
     "text": [
      "Subject1=88\n",
      "Subject2=90\n",
      "Subject3=97\n",
      "Subject4=98\n",
      "Subject5=96\n",
      "Total: 469\n",
      "Precentage: 93.8\n"
     ]
    }
   ],
   "source": [
    "FindPercent.Percentage()"
   ]
  },
  {
   "cell_type": "code",
   "execution_count": null,
   "id": "1bbc5ce5",
   "metadata": {},
   "outputs": [],
   "source": [
    "# print area and perimeter of triangle using class and functions"
   ]
  },
  {
   "cell_type": "code",
   "execution_count": null,
   "id": "719e4d36",
   "metadata": {},
   "outputs": [],
   "source": [
    "# triangle.triangle()"
   ]
  },
  {
   "cell_type": "code",
   "execution_count": 23,
   "id": "d4b93dd7",
   "metadata": {},
   "outputs": [
    {
     "name": "stdout",
     "output_type": "stream",
     "text": [
      "Height:32\n",
      "Breadth:34\n",
      "Area formula:(Height*Breadth)/2\n",
      "Area of Triange: 544.0\n",
      "Height1:2\n",
      "Height2:4\n",
      "Breadth:4\n",
      "Perimeter formula:Height1+Height2+Breadth\n",
      "Perimeter of Triangle: 10\n"
     ]
    }
   ],
   "source": [
    "mes1=int(input(\"Height:\"))\n",
    "mes2=int(input(\"Breadth:\"))\n",
    "print(\"Area formula:(Height*Breadth)/2\")\n",
    "area=(mes1*mes2)/2\n",
    "print(\"Area of Triange:\",area)\n",
    "mes3=int(input(\"Height1:\"))\n",
    "mes4=int(input(\"Height2:\"))\n",
    "mes5=int(input(\"Breadth:\"))\n",
    "print(\"Perimeter formula:Height1+Height2+Breadth\")\n",
    "perimeter=(mes3+mes4+mes5)\n",
    "print(\"Perimeter of Triangle:\",perimeter)"
   ]
  },
  {
   "cell_type": "code",
   "execution_count": 24,
   "id": "732971e1",
   "metadata": {},
   "outputs": [],
   "source": [
    "def triangle():\n",
    "    mes1=int(input(\"Height:\"))\n",
    "    mes2=int(input(\"Breadth:\"))\n",
    "    print(\"Area formula:(Height*Breadth)/2\")\n",
    "    area=(mes1*mes2)/2\n",
    "    print(\"Area of Triange:\",area)\n",
    "    mes3=int(input(\"Height1:\"))\n",
    "    mes4=int(input(\"Height2:\"))\n",
    "    mes5=int(input(\"Breadth:\"))\n",
    "    print(\"Perimeter formula:Height1+Height2+Breadth\")\n",
    "    perimeter=(mes3+mes4+mes5)\n",
    "    print(\"Perimeter of Triangle:\",perimeter)"
   ]
  },
  {
   "cell_type": "code",
   "execution_count": 25,
   "id": "b63ce79d",
   "metadata": {},
   "outputs": [
    {
     "name": "stdout",
     "output_type": "stream",
     "text": [
      "Height:32\n",
      "Breadth:34\n",
      "Area formula:(Height*Breadth)/2\n",
      "Area of Triange: 544.0\n",
      "Height1:2\n",
      "Height2:4\n",
      "Breadth:4\n",
      "Perimeter formula:Height1+Height2+Breadth\n",
      "Perimeter of Triangle: 10\n"
     ]
    }
   ],
   "source": [
    "triangle()"
   ]
  },
  {
   "cell_type": "code",
   "execution_count": 26,
   "id": "84a1e6e0",
   "metadata": {},
   "outputs": [],
   "source": [
    "class triangle():\n",
    "    def triangle():\n",
    "        mes1=int(input(\"Height:\"))\n",
    "        mes2=int(input(\"Breadth:\"))\n",
    "        print(\"Area formula:(Height*Breadth)/2\")\n",
    "        area=(mes1*mes2)/2\n",
    "        print(\"Area of Triange:\",area)\n",
    "        mes3=int(input(\"Height1:\"))\n",
    "        mes4=int(input(\"Height2:\"))\n",
    "        mes5=int(input(\"Breadth:\"))\n",
    "        print(\"Perimeter formula:Height1+Height2+Breadth\")\n",
    "        perimeter=(mes3+mes4+mes5)\n",
    "        print(\"Perimeter of Triangle:\",perimeter)"
   ]
  },
  {
   "cell_type": "code",
   "execution_count": 27,
   "id": "20f9f29e",
   "metadata": {},
   "outputs": [
    {
     "name": "stdout",
     "output_type": "stream",
     "text": [
      "Height:32\n",
      "Breadth:34\n",
      "Area formula:(Height*Breadth)/2\n",
      "Area of Triange: 544.0\n",
      "Height1:2\n",
      "Height2:4\n",
      "Breadth:4\n",
      "Perimeter formula:Height1+Height2+Breadth\n",
      "Perimeter of Triangle: 10\n"
     ]
    }
   ],
   "source": [
    "triangle.triangle()"
   ]
  },
  {
   "cell_type": "code",
   "execution_count": null,
   "id": "6a3a5d0e",
   "metadata": {},
   "outputs": [],
   "source": []
  }
 ],
 "metadata": {
  "kernelspec": {
   "display_name": "Python 3 (ipykernel)",
   "language": "python",
   "name": "python3"
  },
  "language_info": {
   "codemirror_mode": {
    "name": "ipython",
    "version": 3
   },
   "file_extension": ".py",
   "mimetype": "text/x-python",
   "name": "python",
   "nbconvert_exporter": "python",
   "pygments_lexer": "ipython3",
   "version": "3.7.6"
  }
 },
 "nbformat": 4,
 "nbformat_minor": 5
}
