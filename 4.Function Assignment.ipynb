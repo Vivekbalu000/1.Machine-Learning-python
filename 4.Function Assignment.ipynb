{
 "cells": [
  {
   "cell_type": "code",
   "execution_count": null,
   "id": "e887c3f9",
   "metadata": {},
   "outputs": [],
   "source": [
    "# Create Function"
   ]
  },
  {
   "cell_type": "code",
   "execution_count": null,
   "id": "ab6b745e",
   "metadata": {},
   "outputs": [],
   "source": [
    "# Subfields()"
   ]
  },
  {
   "cell_type": "code",
   "execution_count": 1,
   "id": "56962798",
   "metadata": {},
   "outputs": [
    {
     "name": "stdout",
     "output_type": "stream",
     "text": [
      "Subfields()Sub-fields in AI are:\n",
      "Machine Learning\n",
      "Neural Networks\n",
      "Vision\n",
      "Robotics\n",
      "Speech Processing\n",
      "Natural Language Processing\n"
     ]
    }
   ],
   "source": [
    "list1=[\"Subfields()Sub-fields in AI are:\",\"Machine Learning\",\"Neural Networks\",\"Vision\",\"Robotics\",\"Speech Processing\",\"Natural Language Processing\"]\n",
    "for temp in list1:\n",
    "        print(temp)"
   ]
  },
  {
   "cell_type": "code",
   "execution_count": 2,
   "id": "d4f142b0",
   "metadata": {},
   "outputs": [],
   "source": [
    "def Subfields():\n",
    "    list1=[\"Subfields()Sub-fields in AI are:\",\"Machine Learning\",\"Neural Networks\",\"Vision\",\"Robotics\",\"Speech Processing\",\"Natural Language Processing\"]\n",
    "    for temp in list1:\n",
    "            print(temp)"
   ]
  },
  {
   "cell_type": "code",
   "execution_count": 3,
   "id": "96cd041a",
   "metadata": {},
   "outputs": [
    {
     "name": "stdout",
     "output_type": "stream",
     "text": [
      "Subfields()Sub-fields in AI are:\n",
      "Machine Learning\n",
      "Neural Networks\n",
      "Vision\n",
      "Robotics\n",
      "Speech Processing\n",
      "Natural Language Processing\n"
     ]
    }
   ],
   "source": [
    "Subfields()"
   ]
  },
  {
   "cell_type": "code",
   "execution_count": null,
   "id": "d61ce28e",
   "metadata": {},
   "outputs": [],
   "source": [
    "# Create Function"
   ]
  },
  {
   "cell_type": "code",
   "execution_count": null,
   "id": "70252932",
   "metadata": {},
   "outputs": [],
   "source": [
    "OddEven()"
   ]
  },
  {
   "cell_type": "code",
   "execution_count": 4,
   "id": "287d2f71",
   "metadata": {},
   "outputs": [
    {
     "name": "stdout",
     "output_type": "stream",
     "text": [
      "Enter a number: 22\n",
      "22 is Even number\n"
     ]
    }
   ],
   "source": [
    "num=int(input(\"Enter a number: \"))\n",
    "if (num%2)==0:\n",
    "    print((\"{0} is Even number\").format(num))\n",
    "else:\n",
    "    print((\"{0} is Odd number\").format(num))\n",
    "   "
   ]
  },
  {
   "cell_type": "code",
   "execution_count": 5,
   "id": "c1a2ae9d",
   "metadata": {},
   "outputs": [],
   "source": [
    "def OddEven():\n",
    "    num=int(input(\"Enter a number: \"))\n",
    "    if (num%2)==0:\n",
    "        print((\"{0} is Even number\").format(num))\n",
    "    else:\n",
    "        print((\"{0} is Odd number\").format(num))"
   ]
  },
  {
   "cell_type": "code",
   "execution_count": 6,
   "id": "52ee5b40",
   "metadata": {},
   "outputs": [
    {
     "name": "stdout",
     "output_type": "stream",
     "text": [
      "Enter a number: 23\n",
      "23 is Odd number\n"
     ]
    }
   ],
   "source": [
    "OddEven()"
   ]
  },
  {
   "cell_type": "code",
   "execution_count": null,
   "id": "1460d7e5",
   "metadata": {},
   "outputs": [],
   "source": [
    "# Create Function"
   ]
  },
  {
   "cell_type": "code",
   "execution_count": null,
   "id": "64a7dc28",
   "metadata": {},
   "outputs": [],
   "source": [
    "# Eligibile()"
   ]
  },
  {
   "cell_type": "code",
   "execution_count": 7,
   "id": "ab783605",
   "metadata": {},
   "outputs": [
    {
     "name": "stdout",
     "output_type": "stream",
     "text": [
      "Your Gender:male\n",
      "Your age:18\n",
      "NOT ELIGIBILE\n"
     ]
    }
   ],
   "source": [
    "Gender=input(\"Your Gender:\")\n",
    "age=int(input(\"Your age:\"))\n",
    "if (age<=18):\n",
    "    print(\"NOT ELIGIBILE\")\n",
    "else:\n",
    "    print(\"ELIGIBILE\")\n",
    "    "
   ]
  },
  {
   "cell_type": "code",
   "execution_count": 8,
   "id": "d5b994bc",
   "metadata": {},
   "outputs": [],
   "source": [
    "def Eligibile():\n",
    "    Gender=input(\"Your Gender:\")\n",
    "    age=int(input(\"Your age:\"))\n",
    "    if (age<=18):\n",
    "        print(\"NOT ELIGIBILE\")\n",
    "    else:\n",
    "        print(\"ELIGIBILE\")\n",
    "    "
   ]
  },
  {
   "cell_type": "code",
   "execution_count": 9,
   "id": "76f826d6",
   "metadata": {},
   "outputs": [
    {
     "name": "stdout",
     "output_type": "stream",
     "text": [
      "Your Gender:female\n",
      "Your age:20\n",
      "ELIGIBILE\n"
     ]
    }
   ],
   "source": [
    "Eligibile()"
   ]
  },
  {
   "cell_type": "code",
   "execution_count": null,
   "id": "c3161a86",
   "metadata": {},
   "outputs": [],
   "source": [
    "# Create Function"
   ]
  },
  {
   "cell_type": "code",
   "execution_count": null,
   "id": "1d7440f4",
   "metadata": {},
   "outputs": [],
   "source": [
    "#  Percentage()"
   ]
  },
  {
   "cell_type": "code",
   "execution_count": 10,
   "id": "04d0a46b",
   "metadata": {},
   "outputs": [
    {
     "name": "stdout",
     "output_type": "stream",
     "text": [
      "Subject1=23\n",
      "Subject2=45\n",
      "Subject3=34\n",
      "Subject4=23\n",
      "Subject5=23\n",
      "Total: 148\n",
      "Precentage: 29.6\n"
     ]
    }
   ],
   "source": [
    "mar1=int(input(\"Subject1=\"))\n",
    "mar2=int(input(\"Subject2=\"))\n",
    "mar3=int(input(\"Subject3=\"))\n",
    "mar4=int(input(\"Subject4=\"))\n",
    "mar5=int(input(\"Subject5=\"))\n",
    "add=(mar1+mar2+mar3+mar4+mar5)\n",
    "print(\"Total:\",add)\n",
    "print(\"Precentage:\",add/5)\n"
   ]
  },
  {
   "cell_type": "code",
   "execution_count": 11,
   "id": "7a3b12d3",
   "metadata": {},
   "outputs": [],
   "source": [
    "def Percentage():\n",
    "    mar1=int(input(\"Subject1=\"))\n",
    "    mar2=int(input(\"Subject2=\"))\n",
    "    mar3=int(input(\"Subject3=\"))\n",
    "    mar4=int(input(\"Subject4=\"))\n",
    "    mar5=int(input(\"Subject5=\"))\n",
    "    add=(mar1+mar2+mar3+mar4+mar5)\n",
    "    print(\"Total:\",add)\n",
    "    print(\"Precentage:\",add/5)\n",
    "    \n",
    "    "
   ]
  },
  {
   "cell_type": "code",
   "execution_count": 12,
   "id": "8ed3c0df",
   "metadata": {},
   "outputs": [
    {
     "name": "stdout",
     "output_type": "stream",
     "text": [
      "Subject1=23\n",
      "Subject2=45\n",
      "Subject3=34\n",
      "Subject4=23\n",
      "Subject5=23\n",
      "Total: 148\n",
      "Precentage: 29.6\n"
     ]
    }
   ],
   "source": [
    "Percentage()"
   ]
  },
  {
   "cell_type": "code",
   "execution_count": null,
   "id": "7160ee30",
   "metadata": {},
   "outputs": [],
   "source": [
    "# Create Function"
   ]
  },
  {
   "cell_type": "code",
   "execution_count": null,
   "id": "328d9931",
   "metadata": {},
   "outputs": [],
   "source": [
    "# Area of Triangle"
   ]
  },
  {
   "cell_type": "code",
   "execution_count": 13,
   "id": "d4b93dd7",
   "metadata": {},
   "outputs": [
    {
     "name": "stdout",
     "output_type": "stream",
     "text": [
      "Height:32\n",
      "Breadth:34\n",
      "Area formula:(Height*Breadth)/2\n",
      "Area of Triange: 544.0\n",
      "Height1:2\n",
      "Height2:4\n",
      "Breadth:4\n",
      "Perimeter formula:Height1+Height2+Breadth\n",
      "Perimeter of Triangle: 10\n"
     ]
    }
   ],
   "source": [
    "mes1=int(input(\"Height:\"))\n",
    "mes2=int(input(\"Breadth:\"))\n",
    "print(\"Area formula:(Height*Breadth)/2\")\n",
    "area=(mes1*mes2)/2\n",
    "print(\"Area of Triange:\",area)\n",
    "mes3=int(input(\"Height1:\"))\n",
    "mes4=int(input(\"Height2:\"))\n",
    "mes5=int(input(\"Breadth:\"))\n",
    "print(\"Perimeter formula:Height1+Height2+Breadth\")\n",
    "perimeter=(mes3+mes4+mes5)\n",
    "print(\"Perimeter of Triangle:\",perimeter)"
   ]
  },
  {
   "cell_type": "code",
   "execution_count": 14,
   "id": "732971e1",
   "metadata": {},
   "outputs": [],
   "source": [
    "def triangle():\n",
    "    mes1=int(input(\"Height:\"))\n",
    "    mes2=int(input(\"Breadth:\"))\n",
    "    print(\"Area formula:(Height*Breadth)/2\")\n",
    "    area=(mes1*mes2)/2\n",
    "    print(\"Area of Triange:\",area)\n",
    "    mes3=int(input(\"Height1:\"))\n",
    "    mes4=int(input(\"Height2:\"))\n",
    "    mes5=int(input(\"Breadth:\"))\n",
    "    print(\"Perimeter formula:Height1+Height2+Breadth\")\n",
    "    perimeter=(mes3+mes4+mes5)\n",
    "    print(\"Perimeter of Triangle:\",perimeter)"
   ]
  },
  {
   "cell_type": "code",
   "execution_count": 15,
   "id": "b63ce79d",
   "metadata": {},
   "outputs": [
    {
     "name": "stdout",
     "output_type": "stream",
     "text": [
      "Height:32\n",
      "Breadth:34\n",
      "Area formula:(Height*Breadth)/2\n",
      "Area of Triange: 544.0\n",
      "Height1:2\n",
      "Height2:4\n",
      "Breadth:4\n",
      "Perimeter formula:Height1+Height2+Breadth\n",
      "Perimeter of Triangle: 10\n"
     ]
    }
   ],
   "source": [
    "triangle()"
   ]
  },
  {
   "cell_type": "code",
   "execution_count": null,
   "id": "d30585e9",
   "metadata": {},
   "outputs": [],
   "source": []
  }
 ],
 "metadata": {
  "kernelspec": {
   "display_name": "Python 3 (ipykernel)",
   "language": "python",
   "name": "python3"
  },
  "language_info": {
   "codemirror_mode": {
    "name": "ipython",
    "version": 3
   },
   "file_extension": ".py",
   "mimetype": "text/x-python",
   "name": "python",
   "nbconvert_exporter": "python",
   "pygments_lexer": "ipython3",
   "version": "3.7.6"
  }
 },
 "nbformat": 4,
 "nbformat_minor": 5
}
