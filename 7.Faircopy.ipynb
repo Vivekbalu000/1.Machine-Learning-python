{
 "cells": [
  {
   "cell_type": "code",
   "execution_count": 1,
   "id": "267ee8ad",
   "metadata": {},
   "outputs": [],
   "source": [
    "from multipleFunctions import multipleFunctions "
   ]
  },
  {
   "cell_type": "code",
   "execution_count": 2,
   "id": "ae33a186",
   "metadata": {},
   "outputs": [
    {
     "name": "stdout",
     "output_type": "stream",
     "text": [
      "Subfields()Sub-fields in AI are:\n",
      "Machine Learning\n",
      "Neural Networks\n",
      "Vision\n",
      "Robotics\n",
      "Speech Processing\n",
      "Natural      Language Processing\n"
     ]
    }
   ],
   "source": [
    "multipleFunctions.Subfields()"
   ]
  },
  {
   "cell_type": "code",
   "execution_count": 3,
   "id": "0176025f",
   "metadata": {},
   "outputs": [
    {
     "name": "stdout",
     "output_type": "stream",
     "text": [
      "Enter a number: 22\n",
      "22 is Even number\n"
     ]
    }
   ],
   "source": [
    "multipleFunctions. OddEven()"
   ]
  },
  {
   "cell_type": "code",
   "execution_count": 4,
   "id": "b0065724",
   "metadata": {},
   "outputs": [
    {
     "name": "stdout",
     "output_type": "stream",
     "text": [
      "Your Gender:Male\n",
      "Your age:22\n",
      "ELIGIBILE\n"
     ]
    }
   ],
   "source": [
    "multipleFunctions.Eligibile()"
   ]
  },
  {
   "cell_type": "code",
   "execution_count": 5,
   "id": "7981f507",
   "metadata": {},
   "outputs": [
    {
     "name": "stdout",
     "output_type": "stream",
     "text": [
      "Subject1=87\n",
      "Subject2=89\n",
      "Subject3=90\n",
      "Subject4=96\n",
      "Subject5=97\n",
      "Total: 459\n",
      "Precentage: 91.8\n"
     ]
    }
   ],
   "source": [
    "multipleFunctions.Percentage()"
   ]
  },
  {
   "cell_type": "code",
   "execution_count": 7,
   "id": "52b012d5",
   "metadata": {},
   "outputs": [
    {
     "name": "stdout",
     "output_type": "stream",
     "text": [
      "Height:32\n",
      "Breadth:34\n",
      "Area formula:(Height*Breadth)/2\n",
      "Area of Triange: 544.0\n",
      "Height1:2\n",
      "Height2:4\n",
      "Breadth:4\n",
      "Perimeter formula:Height1+Height2+Breadth\n",
      "Perimeter of Triangle: 10\n"
     ]
    }
   ],
   "source": [
    "multipleFunctions.triangle()"
   ]
  },
  {
   "cell_type": "code",
   "execution_count": null,
   "id": "3041afea",
   "metadata": {},
   "outputs": [],
   "source": []
  }
 ],
 "metadata": {
  "kernelspec": {
   "display_name": "Python 3 (ipykernel)",
   "language": "python",
   "name": "python3"
  },
  "language_info": {
   "codemirror_mode": {
    "name": "ipython",
    "version": 3
   },
   "file_extension": ".py",
   "mimetype": "text/x-python",
   "name": "python",
   "nbconvert_exporter": "python",
   "pygments_lexer": "ipython3",
   "version": "3.7.6"
  }
 },
 "nbformat": 4,
 "nbformat_minor": 5
}
