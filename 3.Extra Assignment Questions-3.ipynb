{
 "cells": [
  {
   "cell_type": "code",
   "execution_count": null,
   "id": "58e733db",
   "metadata": {},
   "outputs": [],
   "source": [
    "# print 'CORRECT' if i == 10  "
   ]
  },
  {
   "cell_type": "code",
   "execution_count": 2,
   "id": "828c7309",
   "metadata": {},
   "outputs": [
    {
     "name": "stdout",
     "output_type": "stream",
     "text": [
      "Value:10\n",
      "correct\n"
     ]
    }
   ],
   "source": [
    "number=int(input(\"Value:\",))\n",
    "i=10\n",
    "if (i==10):\n",
    "    print(\"correct\")\n",
    "    "
   ]
  },
  {
   "cell_type": "code",
   "execution_count": null,
   "id": "9ca6721a",
   "metadata": {},
   "outputs": [],
   "source": [
    "# Check the password, using if and else"
   ]
  },
  {
   "cell_type": "code",
   "execution_count": 12,
   "id": "ccedc8c9",
   "metadata": {},
   "outputs": [
    {
     "name": "stdout",
     "output_type": "stream",
     "text": [
      "Enter the password:HOPE@123\n",
      "Your password is correct\n"
     ]
    }
   ],
   "source": [
    "password=(input(\"Enter the password:\",))\n",
    "if (password==\"HOPE@123\"):\n",
    "    print(\"Your password is correct\")\n",
    "else:\n",
    "    print(\"Your password is not correct\")"
   ]
  },
  {
   "cell_type": "code",
   "execution_count": null,
   "id": "b05553b0",
   "metadata": {},
   "outputs": [],
   "source": [
    "# Catagory the people by their age like children, adult, citizen, senior citizen..."
   ]
  },
  {
   "cell_type": "code",
   "execution_count": 4,
   "id": "79bbf81c",
   "metadata": {},
   "outputs": [
    {
     "name": "stdout",
     "output_type": "stream",
     "text": [
      "age:20\n",
      "Adult\n"
     ]
    }
   ],
   "source": [
    "Age=int(input(\"age:\"))\n",
    "if (Age<=18):\n",
    "    print(\"Children\")\n",
    "elif(Age<=35):\n",
    "    print(\"Adult\")\n",
    "elif(Age<=59):\n",
    "    print(\"Citizen\")\n",
    "else:\n",
    "    print(\"Senior Citizen\")\n",
    "    "
   ]
  },
  {
   "cell_type": "code",
   "execution_count": null,
   "id": "9d706cf6",
   "metadata": {},
   "outputs": [],
   "source": [
    "# Find whether given number is positive or negative"
   ]
  },
  {
   "cell_type": "code",
   "execution_count": 5,
   "id": "674e31da",
   "metadata": {},
   "outputs": [
    {
     "name": "stdout",
     "output_type": "stream",
     "text": [
      "Enter any number: 1\n",
      "No is Positive \n"
     ]
    }
   ],
   "source": [
    "num = float(input(\"Enter any number: \"))\n",
    "if num > 0:\n",
    "    print(\"No is Positive \")\n",
    "elif num == 0:\n",
    "    print(\"Zero\")\n",
    "else:\n",
    "    print(\"No is Negative \")"
   ]
  },
  {
   "cell_type": "code",
   "execution_count": null,
   "id": "ab1ac5ef",
   "metadata": {},
   "outputs": [],
   "source": [
    "# Check whether the given number is divisible by 5value"
   ]
  },
  {
   "cell_type": "code",
   "execution_count": 10,
   "id": "0f249542",
   "metadata": {},
   "outputs": [
    {
     "name": "stdout",
     "output_type": "stream",
     "text": [
      "  Enter a number to check : 22\n",
      "  No is Not Divisible by 5\n"
     ]
    }
   ],
   "source": [
    "number = int(input(\"  Enter a number to check : \"))\n",
    "\n",
    "if((number % 5) == 0):\n",
    "    print(\"  Yes is Divisible by 5\")\n",
    "else:\n",
    "    print(\"  No is Not Divisible by 5\") \n"
   ]
  }
 ],
 "metadata": {
  "kernelspec": {
   "display_name": "Python 3 (ipykernel)",
   "language": "python",
   "name": "python3"
  },
  "language_info": {
   "codemirror_mode": {
    "name": "ipython",
    "version": 3
   },
   "file_extension": ".py",
   "mimetype": "text/x-python",
   "name": "python",
   "nbconvert_exporter": "python",
   "pygments_lexer": "ipython3",
   "version": "3.7.6"
  }
 },
 "nbformat": 4,
 "nbformat_minor": 5
}
